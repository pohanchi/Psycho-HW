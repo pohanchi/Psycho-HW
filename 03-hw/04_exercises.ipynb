{
 "cells": [
  {
   "cell_type": "markdown",
   "metadata": {},
   "source": [
    "# Psychoinformatics - Week 4 (Exercises)\n",
    "by yourname (your email)"
   ]
  },
  {
   "cell_type": "markdown",
   "metadata": {},
   "source": [
    "## 進一步搜尋 Boy-Girl 版資訊 (6 points)"
   ]
  },
  {
   "cell_type": "markdown",
   "metadata": {},
   "source": [
    "1. index.html 右上角 [< 上頁 ] 中包含了總頁數資訊，請用 LXML 抓出此經常變動的數字。(2points)\n",
    "\n",
    "2. 請用 LXML 找出距離現在時間最近的一篇[爆]文標題與 URN 。(2 points)\n",
    "\n",
    "3. 請用 Selenium 在 index.html 往前翻三頁並拍照。(2 points)"
   ]
  },
  {
   "cell_type": "code",
   "execution_count": 26,
   "metadata": {},
   "outputs": [],
   "source": [
    "import lxml\n",
    "import lxml.html\n",
    "import urllib.request\n",
    "import numpy as np "
   ]
  },
  {
   "cell_type": "code",
   "execution_count": 281,
   "metadata": {},
   "outputs": [],
   "source": [
    "# No matter what you do, our autograder will only run your analyze() function \n",
    "# and expect it to return the correct answers of Q1 & Q2 as a list\n",
    "# and generate three screenshots for Q3 with '1.png', '2.png', & '3.png' as filenames.\n",
    "\n",
    "def analyze():\n",
    "    # write your codes here...\n",
    "    u='http://www.ptt.cc/bbs/Boy-Girl/'\n",
    "    h={'User-Agent':''}\n",
    "    r=urllib.request.Request(u,headers=h)\n",
    "    data=urllib.request.urlopen(r).read()\n",
    "    t=lxml.html.fromstring(data.decode('utf-8'))\n",
    "    \n",
    "    # Question number 1.\n",
    "    previous = t.xpath('//a/@href')[7].split(\".html\")[0]\n",
    "    number = previous.split(\"index\")[-1]\n",
    "    final_num = int(number)+1\n",
    "    \n",
    "    # Question number 2.\n",
    "    search = []\n",
    "    while len(search) == 0:\n",
    "        tmp       = t.xpath(\"//a[contains(text(),'‹ 上頁')]\")\n",
    "        prev_href = tmp[0].attrib.get('href').split(\"/\")[3]\n",
    "        # 3 conditions: 1. r-ent class  2. the children class=mark have no text content. 3. the children class=nrec of span contains '爆'.\n",
    "        search    = t.xpath(\"//div[contains(@class,'r-ent') and div[contains(@class,'meta')]/div[contains(@class,'mark')][normalize-space(text())=''] and div[contains(@class,'nrec')]/span[contains(text(),'爆')]]\")\n",
    "        if len(search) == 0:\n",
    "            r = urllib.request.Request(u+prev_href,headers=h)\n",
    "            data = urllib.request.urlopen(r).read()\n",
    "            t=lxml.html.fromstring(data.decode('utf-8'))\n",
    "    meta = search[0].xpath(\"div[contains(@class,'title')]\")\n",
    "    \n",
    "    # Question number 3. \n",
    "    from selenium import webdriver\n",
    "    URI = u\n",
    "    driver=webdriver.Chrome()\n",
    "    driver.get(URI)\n",
    "    btn=driver.find_elements_by_xpath(\"//*[contains(text(), '‹ 上頁')]\")\n",
    "    driver.save_screenshot('1.png')\n",
    "    btn[0].click()\n",
    "    btn=driver.find_elements_by_xpath(\"//*[contains(text(), '‹ 上頁')]\")\n",
    "    driver.save_screenshot('2.png')\n",
    "    btn[0].click()\n",
    "    btn=driver.find_elements_by_xpath(\"//*[contains(text(), '‹ 上頁')]\")\n",
    "    driver.save_screenshot('3.png')\n",
    "    btn[0].click()\n",
    "\n",
    "    return [final_num, meta[0].xpath(\"a/text()\")[0],meta[0].xpath(\"a/@href\")[0] ] \n",
    "\n",
    "    \n",
    "\n"
   ]
  },
  {
   "cell_type": "code",
   "execution_count": 282,
   "metadata": {},
   "outputs": [
    {
     "data": {
      "text/plain": [
       "[4795, 'Re: [心情] 這些年，我遇過的奇葩', '/bbs/Boy-Girl/M.1586139114.A.C02.html']"
      ]
     },
     "execution_count": 282,
     "metadata": {},
     "output_type": "execute_result"
    }
   ],
   "source": [
    "analyze()"
   ]
  },
  {
   "cell_type": "markdown",
   "metadata": {},
   "source": [
    "### Please submit this file to http://hpc.psy.ntu.edu.tw/info before  4/9(Thur) 中午12:00 ."
   ]
  },
  {
   "cell_type": "code",
   "execution_count": null,
   "metadata": {},
   "outputs": [],
   "source": []
  }
 ],
 "metadata": {
  "kernelspec": {
   "display_name": "Python 3",
   "language": "python",
   "name": "python3"
  },
  "language_info": {
   "codemirror_mode": {
    "name": "ipython",
    "version": 3
   },
   "file_extension": ".py",
   "mimetype": "text/x-python",
   "name": "python",
   "nbconvert_exporter": "python",
   "pygments_lexer": "ipython3",
   "version": "3.7.3"
  }
 },
 "nbformat": 4,
 "nbformat_minor": 2
}
